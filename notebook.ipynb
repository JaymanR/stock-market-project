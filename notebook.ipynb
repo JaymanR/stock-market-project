{
 "cells": [
  {
   "metadata": {},
   "cell_type": "code",
   "source": [
    "from io import StringIO\n",
    "\n",
    "pip install yahoo_fin"
   ],
   "id": "331aed5e587ed478",
   "outputs": [],
   "execution_count": null
  },
  {
   "metadata": {},
   "cell_type": "code",
   "source": "pip install requests_html",
   "id": "9ad6e5aeea6dd085",
   "outputs": [],
   "execution_count": null
  },
  {
   "metadata": {
    "ExecuteTime": {
     "end_time": "2025-09-27T14:16:27.222088Z",
     "start_time": "2025-09-27T14:16:27.217930Z"
    }
   },
   "cell_type": "code",
   "source": [
    "import pandas as pd\n",
    "import stock_data"
   ],
   "id": "60b1ba2c44a4cdf9",
   "outputs": [],
   "execution_count": 3
  },
  {
   "metadata": {
    "ExecuteTime": {
     "end_time": "2025-09-27T14:19:12.278795Z",
     "start_time": "2025-09-27T14:19:11.039187Z"
    }
   },
   "cell_type": "code",
   "source": [
    "import requests\n",
    "from bs4 import BeautifulSoup\n",
    "from io import StringIO\n",
    "\n",
    "url = \"https://en.wikipedia.org/wiki/List_of_S%26P_500_companies\"\n",
    "resp = requests.get(url, headers={\"User-Agent\": \"Mozilla/5.0\"})\n",
    "soup = BeautifulSoup(resp.text, \"html.parser\")\n",
    "table = soup.find(\"table\", {\"id\": \"constituents\"})\n",
    "\n",
    "df = pd.read_html(StringIO(str(table)))[0]\n",
    "df = df[[\"Symbol\", \"Security\"]].rename(columns={\"Symbol\": \"Ticker\"})\n",
    "df[\"Index\"] = \"S&P 500\"\n",
    "\n",
    "df"
   ],
   "id": "6206b9a793bf2687",
   "outputs": [
    {
     "data": {
      "text/plain": [
       "    Ticker             Security    Index\n",
       "0      MMM                   3M  S&P 500\n",
       "1      AOS          A. O. Smith  S&P 500\n",
       "2      ABT  Abbott Laboratories  S&P 500\n",
       "3     ABBV               AbbVie  S&P 500\n",
       "4      ACN            Accenture  S&P 500\n",
       "..     ...                  ...      ...\n",
       "498    XYL           Xylem Inc.  S&P 500\n",
       "499    YUM          Yum! Brands  S&P 500\n",
       "500   ZBRA   Zebra Technologies  S&P 500\n",
       "501    ZBH        Zimmer Biomet  S&P 500\n",
       "502    ZTS               Zoetis  S&P 500\n",
       "\n",
       "[503 rows x 3 columns]"
      ],
      "text/html": [
       "<div>\n",
       "<style scoped>\n",
       "    .dataframe tbody tr th:only-of-type {\n",
       "        vertical-align: middle;\n",
       "    }\n",
       "\n",
       "    .dataframe tbody tr th {\n",
       "        vertical-align: top;\n",
       "    }\n",
       "\n",
       "    .dataframe thead th {\n",
       "        text-align: right;\n",
       "    }\n",
       "</style>\n",
       "<table border=\"1\" class=\"dataframe\">\n",
       "  <thead>\n",
       "    <tr style=\"text-align: right;\">\n",
       "      <th></th>\n",
       "      <th>Ticker</th>\n",
       "      <th>Security</th>\n",
       "      <th>Index</th>\n",
       "    </tr>\n",
       "  </thead>\n",
       "  <tbody>\n",
       "    <tr>\n",
       "      <th>0</th>\n",
       "      <td>MMM</td>\n",
       "      <td>3M</td>\n",
       "      <td>S&amp;P 500</td>\n",
       "    </tr>\n",
       "    <tr>\n",
       "      <th>1</th>\n",
       "      <td>AOS</td>\n",
       "      <td>A. O. Smith</td>\n",
       "      <td>S&amp;P 500</td>\n",
       "    </tr>\n",
       "    <tr>\n",
       "      <th>2</th>\n",
       "      <td>ABT</td>\n",
       "      <td>Abbott Laboratories</td>\n",
       "      <td>S&amp;P 500</td>\n",
       "    </tr>\n",
       "    <tr>\n",
       "      <th>3</th>\n",
       "      <td>ABBV</td>\n",
       "      <td>AbbVie</td>\n",
       "      <td>S&amp;P 500</td>\n",
       "    </tr>\n",
       "    <tr>\n",
       "      <th>4</th>\n",
       "      <td>ACN</td>\n",
       "      <td>Accenture</td>\n",
       "      <td>S&amp;P 500</td>\n",
       "    </tr>\n",
       "    <tr>\n",
       "      <th>...</th>\n",
       "      <td>...</td>\n",
       "      <td>...</td>\n",
       "      <td>...</td>\n",
       "    </tr>\n",
       "    <tr>\n",
       "      <th>498</th>\n",
       "      <td>XYL</td>\n",
       "      <td>Xylem Inc.</td>\n",
       "      <td>S&amp;P 500</td>\n",
       "    </tr>\n",
       "    <tr>\n",
       "      <th>499</th>\n",
       "      <td>YUM</td>\n",
       "      <td>Yum! Brands</td>\n",
       "      <td>S&amp;P 500</td>\n",
       "    </tr>\n",
       "    <tr>\n",
       "      <th>500</th>\n",
       "      <td>ZBRA</td>\n",
       "      <td>Zebra Technologies</td>\n",
       "      <td>S&amp;P 500</td>\n",
       "    </tr>\n",
       "    <tr>\n",
       "      <th>501</th>\n",
       "      <td>ZBH</td>\n",
       "      <td>Zimmer Biomet</td>\n",
       "      <td>S&amp;P 500</td>\n",
       "    </tr>\n",
       "    <tr>\n",
       "      <th>502</th>\n",
       "      <td>ZTS</td>\n",
       "      <td>Zoetis</td>\n",
       "      <td>S&amp;P 500</td>\n",
       "    </tr>\n",
       "  </tbody>\n",
       "</table>\n",
       "<p>503 rows × 3 columns</p>\n",
       "</div>"
      ]
     },
     "execution_count": 8,
     "metadata": {},
     "output_type": "execute_result"
    }
   ],
   "execution_count": 8
  },
  {
   "metadata": {},
   "cell_type": "code",
   "outputs": [],
   "execution_count": null,
   "source": "",
   "id": "d6708f480ddc4683"
  }
 ],
 "metadata": {
  "kernelspec": {
   "name": "python3",
   "language": "python",
   "display_name": "Python 3 (ipykernel)"
  }
 },
 "nbformat": 4,
 "nbformat_minor": 5
}
